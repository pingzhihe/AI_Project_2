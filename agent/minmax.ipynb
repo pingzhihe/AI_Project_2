{
 "cells": [
  {
   "cell_type": "code",
   "execution_count": 7,
   "metadata": {},
   "outputs": [
    {
     "data": {
      "text/plain": [
       "(0, 0)"
      ]
     },
     "execution_count": 7,
     "metadata": {},
     "output_type": "execute_result"
    }
   ],
   "source": [
    "import sys\n",
    "sys.path.append('C:\\AI\\AI_Project_2')\n",
    "from game_class import Game, take_action\n",
    "\n",
    "    \n",
    "def aminimax(game: Game, player: str, depth: int):\n",
    "    if depth == 0:\n",
    "        return evaluate(game, game.player)\n",
    "    if player == \"MAX\":\n",
    "        best_score = float('-inf')\n",
    "        for action in game.get_legal_action():\n",
    "            next_state = take_action(action, game)\n",
    "            score = aminimax(next_state, \"MIN\", depth - 1)\n",
    "            best_score = max(best_score, score)\n",
    "        return best_score\n",
    "    else:\n",
    "        best_score = float('inf')\n",
    "        for action in game.get_legal_action():\n",
    "            next_state = take_action(action, game)\n",
    "            score = aminimax(next_state, \"MAX\", depth - 1)\n",
    "            best_score = min(best_score, score)\n",
    "        return best_score\n",
    "    \n",
    "\n",
    "def find_best_move(game: Game):\n",
    "    best_score = float('-inf')\n",
    "    best_move = None\n",
    "    for action in game.get_legal_action():\n",
    "        next_state = take_action(action, game)\n",
    "        score = aminimax(next_state, \"MIN\", depth=2)\n",
    "        if score > best_score:\n",
    "            best_score = score\n",
    "            best_move = action\n",
    "    return best_move\n",
    "\n",
    "\n",
    "\n",
    "\n",
    "def evaluate(game: Game, player: str):\n",
    "    power_b = game.count_power('b')\n",
    "    power_r = game.count_power('r')\n",
    "    if player == 'r':\n",
    "        return power_r - power_b\n",
    "    else:\n",
    "        return power_b - power_r\n",
    "\n",
    "game = Game()\n",
    "game.player = 'r'\n",
    "find_best_move(game)\n",
    "\n"
   ]
  }
 ],
 "metadata": {
  "kernelspec": {
   "display_name": "Charlie",
   "language": "python",
   "name": "python3"
  },
  "language_info": {
   "codemirror_mode": {
    "name": "ipython",
    "version": 3
   },
   "file_extension": ".py",
   "mimetype": "text/x-python",
   "name": "python",
   "nbconvert_exporter": "python",
   "pygments_lexer": "ipython3",
   "version": "3.10.10"
  },
  "orig_nbformat": 4
 },
 "nbformat": 4,
 "nbformat_minor": 2
}
