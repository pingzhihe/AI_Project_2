{
 "cells": [
  {
   "cell_type": "code",
   "execution_count": null,
   "metadata": {},
   "outputs": [],
   "source": [
    "import sys\n",
    "sys.path.append('C:\\AI\\AI_Project_2')\n",
    "from mcts import Game, take_action\n",
    "def minmax(game: Game, depth, is_maxing_player):\n",
    "\n",
    "    if depth == 0 or game.is_terminal():\n",
    "        return evaluate(game, 'r')\n",
    "    if is_maxing_player:\n",
    "        max_value = float('-inf')\n",
    "        best_action = None\n",
    "        for action in game.get_legal_action:\n",
    "            value = minmax(take_action(action, game),depth - 1, False)\n",
    "            if value > max_value:\n",
    "                max_value = value\n",
    "                best_action = action\n",
    "        \n",
    "\n",
    "    \n",
    "\n",
    "\n",
    "\n",
    "\n",
    "\n",
    "def evaluate(game: Game, player: str):\n",
    "    power_b = game.count_power('b')\n",
    "    power_r = game.count_power('r')\n",
    "    if player == 'r':\n",
    "        return power_r - power_b\n",
    "    else:\n",
    "        return power_b - power_r\n",
    "\n",
    "\n",
    "    "
   ]
  },
  {
   "cell_type": "code",
   "execution_count": null,
   "metadata": {},
   "outputs": [],
   "source": []
  }
 ],
 "metadata": {
  "kernelspec": {
   "display_name": "Charlie",
   "language": "python",
   "name": "python3"
  },
  "language_info": {
   "codemirror_mode": {
    "name": "ipython",
    "version": 3
   },
   "file_extension": ".py",
   "mimetype": "text/x-python",
   "name": "python",
   "nbconvert_exporter": "python",
   "pygments_lexer": "ipython3",
   "version": "3.10.10"
  },
  "orig_nbformat": 4
 },
 "nbformat": 4,
 "nbformat_minor": 2
}
