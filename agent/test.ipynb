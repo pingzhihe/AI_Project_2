{
 "cells": [
  {
   "cell_type": "code",
   "execution_count": 1,
   "id": "72f6b8fd",
   "metadata": {},
   "outputs": [
    {
     "name": "stdout",
     "output_type": "stream",
     "text": [
      "RED\n",
      "                         ..     \n",
      "                     ..      ..     \n",
      "                 ..      ..      ..     \n",
      "             ..      ..      ..      ..     \n",
      "         ..      ..      ..      ..      ..     \n",
      "     ..      ..      ..      ..      ..      ..     \n",
      " ..      r1      ..      ..      ..      ..      ..     \n",
      "     ..      ..      ..      ..      ..      ..     \n",
      "         ..      ..      ..      ..      ..     \n",
      "             ..      ..      ..      ..     \n",
      "                 ..      ..      ..     \n",
      "                     ..      ..     \n",
      "                         ..     \n",
      "\n",
      "BLUE\n",
      "                         ..     \n",
      "                     ..      ..     \n",
      "                 ..      ..      ..     \n",
      "             ..      ..      ..      ..     \n",
      "         ..      ..      ..      ..      ..     \n",
      "     ..      b1      ..      ..      ..      ..     \n",
      " ..      r1      ..      ..      ..      ..      ..     \n",
      "     ..      ..      ..      ..      ..      ..     \n",
      "         ..      ..      ..      ..      ..     \n",
      "             ..      ..      ..      ..     \n",
      "                 ..      ..      ..     \n",
      "                     ..      ..     \n",
      "                         ..     \n",
      "\n",
      "RED\n",
      "                         ..     \n",
      "                     ..      ..     \n",
      "                 ..      ..      ..     \n",
      "             ..      ..      ..      ..     \n",
      "         ..      ..      ..      ..      ..     \n",
      "     ..      r2      ..      ..      ..      ..     \n",
      " ..      ..      ..      ..      ..      ..      ..     \n",
      "     ..      ..      ..      ..      ..      ..     \n",
      "         ..      ..      ..      ..      ..     \n",
      "             ..      ..      ..      ..     \n",
      "                 ..      ..      ..     \n",
      "                     ..      ..     \n",
      "                         ..     \n",
      "\n"
     ]
    },
    {
     "data": {
      "text/plain": [
       "defaultdict(<function referee.game.board.Board.__init__.<locals>.<lambda>()>,\n",
       "            {HexPos(r=1, q=1): CellState(player=None, power=0),\n",
       "             HexPos(r=6, q=0): CellState(player=None, power=0),\n",
       "             HexPos(r=5, q=0): CellState(player=None, power=0),\n",
       "             HexPos(r=6, q=1): CellState(player=None, power=0),\n",
       "             HexPos(r=4, q=0): CellState(player=None, power=0),\n",
       "             HexPos(r=5, q=1): CellState(player=None, power=0),\n",
       "             HexPos(r=6, q=2): CellState(player=None, power=0),\n",
       "             HexPos(r=3, q=0): CellState(player=None, power=0),\n",
       "             HexPos(r=4, q=1): CellState(player=None, power=0),\n",
       "             HexPos(r=5, q=2): CellState(player=None, power=0),\n",
       "             HexPos(r=6, q=3): CellState(player=None, power=0),\n",
       "             HexPos(r=2, q=0): CellState(player=None, power=0),\n",
       "             HexPos(r=3, q=1): CellState(player=None, power=0),\n",
       "             HexPos(r=4, q=2): CellState(player=None, power=0),\n",
       "             HexPos(r=5, q=3): CellState(player=None, power=0),\n",
       "             HexPos(r=6, q=4): CellState(player=None, power=0),\n",
       "             HexPos(r=1, q=0): CellState(player=None, power=0),\n",
       "             HexPos(r=2, q=1): CellState(player=<PlayerColor.RED: 0>, power=2),\n",
       "             HexPos(r=3, q=2): CellState(player=None, power=0),\n",
       "             HexPos(r=4, q=3): CellState(player=None, power=0),\n",
       "             HexPos(r=5, q=4): CellState(player=None, power=0),\n",
       "             HexPos(r=6, q=5): CellState(player=None, power=0),\n",
       "             HexPos(r=0, q=0): CellState(player=None, power=0),\n",
       "             HexPos(r=2, q=2): CellState(player=None, power=0),\n",
       "             HexPos(r=3, q=3): CellState(player=None, power=0),\n",
       "             HexPos(r=4, q=4): CellState(player=None, power=0),\n",
       "             HexPos(r=5, q=5): CellState(player=None, power=0),\n",
       "             HexPos(r=6, q=6): CellState(player=None, power=0),\n",
       "             HexPos(r=0, q=1): CellState(player=None, power=0),\n",
       "             HexPos(r=1, q=2): CellState(player=None, power=0),\n",
       "             HexPos(r=2, q=3): CellState(player=None, power=0),\n",
       "             HexPos(r=3, q=4): CellState(player=None, power=0),\n",
       "             HexPos(r=4, q=5): CellState(player=None, power=0),\n",
       "             HexPos(r=5, q=6): CellState(player=None, power=0),\n",
       "             HexPos(r=0, q=2): CellState(player=None, power=0),\n",
       "             HexPos(r=1, q=3): CellState(player=None, power=0),\n",
       "             HexPos(r=2, q=4): CellState(player=None, power=0),\n",
       "             HexPos(r=3, q=5): CellState(player=None, power=0),\n",
       "             HexPos(r=4, q=6): CellState(player=None, power=0),\n",
       "             HexPos(r=0, q=3): CellState(player=None, power=0),\n",
       "             HexPos(r=1, q=4): CellState(player=None, power=0),\n",
       "             HexPos(r=2, q=5): CellState(player=None, power=0),\n",
       "             HexPos(r=3, q=6): CellState(player=None, power=0),\n",
       "             HexPos(r=0, q=4): CellState(player=None, power=0),\n",
       "             HexPos(r=1, q=5): CellState(player=None, power=0),\n",
       "             HexPos(r=2, q=6): CellState(player=None, power=0),\n",
       "             HexPos(r=0, q=5): CellState(player=None, power=0),\n",
       "             HexPos(r=1, q=6): CellState(player=None, power=0),\n",
       "             HexPos(r=0, q=6): CellState(player=None, power=0)})"
      ]
     },
     "execution_count": 1,
     "metadata": {},
     "output_type": "execute_result"
    }
   ],
   "source": [
    "import sys\n",
    "sys.path.append('C:\\AI\\AI_Project_2')\n",
    "from referee.game import Board, SpawnAction, HexPos, SpreadAction, HexDir\n",
    "from referee.game.player import PlayerColor\n",
    "\n",
    "my_board = Board()\n",
    "print(my_board._turn_color)\n",
    "\n",
    "action_1 = SpawnAction(HexPos(1,1))\n",
    "\n",
    "my_board.apply_action(action_1)\n",
    "print(my_board.render())\n",
    "print(my_board._turn_color)\n",
    "#my_board._state\n",
    "\n",
    "\n",
    "action_2 = SpawnAction(HexPos(2,1))\n",
    "my_board.apply_action(action_2)\n",
    "print(my_board.render())\n",
    "print(my_board._turn_color)\n",
    "\n",
    "action_3 = SpreadAction(HexPos(1,1),HexDir.UpRight)\n",
    "my_board.apply_action(action_3)\n",
    "print(my_board.render())\n",
    "\n",
    "my_board._state\n"
   ]
  },
  {
   "cell_type": "code",
   "execution_count": 2,
   "id": "177d21e5",
   "metadata": {},
   "outputs": [
    {
     "name": "stdout",
     "output_type": "stream",
     "text": [
      "2-1\n"
     ]
    }
   ],
   "source": [
    "for key in my_board._state:\n",
    "    if (my_board._state[key].player == PlayerColor.RED):\n",
    "        print(key)\n",
    "    \n",
    "\n"
   ]
  },
  {
   "cell_type": "code",
   "execution_count": 3,
   "id": "7aa2d8a0",
   "metadata": {},
   "outputs": [
    {
     "name": "stdout",
     "output_type": "stream",
     "text": [
      "                         ..     \n",
      "                     ..      ..     \n",
      "                 ..      ..      ..     \n",
      "             ..      ..      ..      ..     \n",
      "         ..      ..      ..      ..      ..     \n",
      "     ..      r2      ..      ..      ..      ..     \n",
      " b1      ..      ..      ..      ..      ..      ..     \n",
      "     ..      ..      ..      ..      ..      ..     \n",
      "         ..      ..      ..      ..      ..     \n",
      "             ..      ..      ..      ..     \n",
      "                 ..      ..      ..     \n",
      "                     ..      ..     \n",
      "                         ..     \n",
      "\n",
      "                         ..     \n",
      "                     ..      ..     \n",
      "                 ..      ..      ..     \n",
      "             ..      ..      ..      ..     \n",
      "         ..      ..      ..      ..      ..     \n",
      "     ..      ..      ..      ..      ..      ..     \n",
      " b1      ..      ..      ..      ..      ..      ..     \n",
      "     ..      r1      ..      ..      ..      ..     \n",
      "         ..      ..      ..      ..      ..     \n",
      "             r1      ..      ..      ..     \n",
      "                 ..      ..      ..     \n",
      "                     ..      ..     \n",
      "                         ..     \n",
      "\n",
      "[↘]\n",
      "[↓]\n",
      "[↙]\n",
      "[↖]\n",
      "[↑]\n",
      "[↗]\n"
     ]
    }
   ],
   "source": [
    "'''\n",
    "my_board._history\n",
    "my_board.undo_action\n",
    "my_board._history\n",
    "print(len(my_board._history))\n",
    "'''\n",
    "action_4 = SpawnAction(HexPos(0,0))\n",
    "my_board.apply_action(action_4)\n",
    "print(my_board.render())\n",
    "action_5 = SpreadAction(HexPos(2,1),HexDir.Down)\n",
    "my_board.apply_action(action_5)\n",
    "print(my_board.render())\n",
    "\n"
   ]
  },
  {
   "cell_type": "code",
   "execution_count": 6,
   "id": "d1ba10d9",
   "metadata": {},
   "outputs": [
    {
     "name": "stdout",
     "output_type": "stream",
     "text": [
      "3\n"
     ]
    }
   ],
   "source": []
  }
 ],
 "metadata": {
  "kernelspec": {
   "display_name": "Python 3 (ipykernel)",
   "language": "python",
   "name": "python3"
  },
  "language_info": {
   "codemirror_mode": {
    "name": "ipython",
    "version": 3
   },
   "file_extension": ".py",
   "mimetype": "text/x-python",
   "name": "python",
   "nbconvert_exporter": "python",
   "pygments_lexer": "ipython3",
   "version": "3.10.10"
  }
 },
 "nbformat": 4,
 "nbformat_minor": 5
}
